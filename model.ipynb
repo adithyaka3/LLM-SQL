{
 "cells": [
  {
   "cell_type": "markdown",
   "metadata": {},
   "source": [
    "Here there are a lot of choices for choosing the right model.\n",
    "1. stsb-roberta-large: Ideal for semantic similarity\n",
    "2. all-roberta-v1-large\n",
    "3. all-mpnet-base-v2"
   ]
  },
  {
   "cell_type": "code",
   "execution_count": 59,
   "metadata": {},
   "outputs": [],
   "source": [
    "import pandas as pd\n",
    "from sentence_transformers import SentenceTransformer, util\n",
    "\n",
    "# model = SentenceTransformer('all-roberta-large-v1', device = 'cpu')\n",
    "model = SentenceTransformer('all-MiniLM-L12-v2', device = 'cpu')\n",
    "\n"
   ]
  },
  {
   "cell_type": "markdown",
   "metadata": {},
   "source": [
    "### Random Testing"
   ]
  },
  {
   "cell_type": "code",
   "execution_count": 55,
   "metadata": {},
   "outputs": [],
   "source": [
    "\n",
    "# Load both CSVs\n",
    "csv1 = pd.read_csv(\"rupay_good_queries.csv\", header=None, names=[\"text\"])\n",
    "csv2 = pd.read_csv(\"upi_good_queries.csv\", header=None, names=[\"text\"])\n",
    "\n",
    "relevant_queries = pd.concat([csv1, csv2])['text'].tolist()\n"
   ]
  },
  {
   "cell_type": "code",
   "execution_count": 56,
   "metadata": {},
   "outputs": [
    {
     "name": "stdout",
     "output_type": "stream",
     "text": [
      "Query: How do I register my startup? → False\n",
      "Query: Tell me a joke. → False\n",
      "Query: Can I apply for a business loan online? → False\n",
      "Query: What's the weather today? → False\n",
      "Query: How to find investors for my startup? → False\n",
      "Query: get daily unique buyers this year → True\n"
     ]
    }
   ],
   "source": [
    "\n",
    "relevant_embeddings = model.encode(relevant_queries, convert_to_tensor=True)\n",
    "\n",
    "def is_relevant(query, threshold=0.6):\n",
    "    query_embedding = model.encode(query, convert_to_tensor=True)\n",
    "    similarities = util.cos_sim(query_embedding, relevant_embeddings)\n",
    "    max_sim = similarities.max().item()\n",
    "    return True if max_sim >= threshold else False\n",
    "\n",
    "test_queries = [\n",
    "    \"How do I register my startup?\",\n",
    "    \"Tell me a joke.\",\n",
    "    \"Can I apply for a business loan online?\",\n",
    "    \"What's the weather today?\",\n",
    "    \"How to find investors for my startup?\",\n",
    "    \"get daily unique buyers this year\"\n",
    "]\n",
    "\n",
    "for q in test_queries:\n",
    "    print(f\"Query: {q} → {is_relevant(q)}\")\n"
   ]
  },
  {
   "cell_type": "code",
   "execution_count": 57,
   "metadata": {},
   "outputs": [],
   "source": [
    "def testing(filename):\n",
    "\ttest_queries_df = pd.read_csv(filename, header=None, names=[\"text\"])\n",
    "\ttest_queries_df[\"Classification\"] = test_queries_df[\"text\"].apply(is_relevant)\n",
    "\trelevant_count = (test_queries_df[\"Classification\"]).sum()\n",
    "\tnot_relevant_count = len(test_queries_df) - relevant_count\n",
    "\n",
    "\t# Print results\n",
    "\tprint(f\"Relevant Queries: {relevant_count}\")\n",
    "\tprint(f\"Not Relevant Queries: {not_relevant_count}\")\n"
   ]
  },
  {
   "cell_type": "code",
   "execution_count": 58,
   "metadata": {},
   "outputs": [
    {
     "name": "stdout",
     "output_type": "stream",
     "text": [
      "Relevant Queries: 0\n",
      "Not Relevant Queries: 100\n",
      "Relevant Queries: 197\n",
      "Not Relevant Queries: 6\n"
     ]
    }
   ],
   "source": [
    "testing(\"negative_queries.csv\")\n",
    "testing(\"simple.csv\")"
   ]
  }
 ],
 "metadata": {
  "kernelspec": {
   "display_name": "Python 3",
   "language": "python",
   "name": "python3"
  },
  "language_info": {
   "codemirror_mode": {
    "name": "ipython",
    "version": 3
   },
   "file_extension": ".py",
   "mimetype": "text/x-python",
   "name": "python",
   "nbconvert_exporter": "python",
   "pygments_lexer": "ipython3",
   "version": "3.12.3"
  }
 },
 "nbformat": 4,
 "nbformat_minor": 2
}
